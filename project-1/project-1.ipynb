{
 "cells": [
  {
   "cell_type": "code",
   "execution_count": 2,
   "metadata": {},
   "outputs": [],
   "source": [
    "import gspread\n",
    "\n",
    "#gc = gspread.service_account_from_dict(credentials)\n",
    "\n",
    "gc = gspread.service_account(\"credentials.json\")\n"
   ]
  },
  {
   "cell_type": "code",
   "execution_count": 3,
   "metadata": {},
   "outputs": [
    {
     "name": "stdout",
     "output_type": "stream",
     "text": [
      "[['ID', 'Email2', 'First Name', 'Last Name', 'Department', 'School', 'Are you a hackathon participant or attendee?']]\n"
     ]
    }
   ],
   "source": [
    "sh = gc.open(\"project_1\")\n",
    "\n",
    "print(sh.sheet1.get('A1:G1'))"
   ]
  },
  {
   "cell_type": "code",
   "execution_count": 4,
   "metadata": {},
   "outputs": [
    {
     "data": {
      "text/plain": [
       "<Response [200]>"
      ]
     },
     "execution_count": 4,
     "metadata": {},
     "output_type": "execute_result"
    }
   ],
   "source": [
    "## Sharing the spreadsheet with another user\n",
    "\n",
    "sh.share('masterdiamond008@gmail.com', perm_type='user', role='writer')"
   ]
  },
  {
   "cell_type": "code",
   "execution_count": 5,
   "metadata": {},
   "outputs": [],
   "source": [
    "sheet = sh.sheet1"
   ]
  },
  {
   "cell_type": "code",
   "execution_count": 6,
   "metadata": {},
   "outputs": [],
   "source": [
    "data = sheet.get_all_records()"
   ]
  },
  {
   "cell_type": "code",
   "execution_count": 7,
   "metadata": {},
   "outputs": [],
   "source": [
    "import pandas as pd\n",
    "\n",
    "df = pd.DataFrame(data)"
   ]
  },
  {
   "cell_type": "code",
   "execution_count": 8,
   "metadata": {},
   "outputs": [
    {
     "data": {
      "text/html": [
       "<div>\n",
       "<style scoped>\n",
       "    .dataframe tbody tr th:only-of-type {\n",
       "        vertical-align: middle;\n",
       "    }\n",
       "\n",
       "    .dataframe tbody tr th {\n",
       "        vertical-align: top;\n",
       "    }\n",
       "\n",
       "    .dataframe thead th {\n",
       "        text-align: right;\n",
       "    }\n",
       "</style>\n",
       "<table border=\"1\" class=\"dataframe\">\n",
       "  <thead>\n",
       "    <tr style=\"text-align: right;\">\n",
       "      <th></th>\n",
       "      <th>ID</th>\n",
       "      <th>Email2</th>\n",
       "      <th>First Name</th>\n",
       "      <th>Last Name</th>\n",
       "      <th>Department</th>\n",
       "      <th>School</th>\n",
       "      <th>Are you a hackathon participant or attendee?</th>\n",
       "      <th>How did you hear about this event?</th>\n",
       "      <th>Attendance</th>\n",
       "    </tr>\n",
       "  </thead>\n",
       "  <tbody>\n",
       "    <tr>\n",
       "      <th>0</th>\n",
       "      <td>1</td>\n",
       "      <td>Olamideosho148@gmail.com</td>\n",
       "      <td>Olamide</td>\n",
       "      <td>Osho</td>\n",
       "      <td>Economics</td>\n",
       "      <td>Obafemi Awolowo University</td>\n",
       "      <td>Attendee</td>\n",
       "      <td>Whatsapp</td>\n",
       "      <td>Present</td>\n",
       "    </tr>\n",
       "    <tr>\n",
       "      <th>1</th>\n",
       "      <td>2</td>\n",
       "      <td>abdurahmanridwan02@gmail.com</td>\n",
       "      <td>Ridwan</td>\n",
       "      <td>Abdurahman</td>\n",
       "      <td>Agricultural and environmental engineering</td>\n",
       "      <td>Obafemi awolowo university, ile ife</td>\n",
       "      <td>Hackathon Participant</td>\n",
       "      <td>Whatsapp</td>\n",
       "      <td></td>\n",
       "    </tr>\n",
       "    <tr>\n",
       "      <th>2</th>\n",
       "      <td>3</td>\n",
       "      <td>Emmanueldan402@gmail.com</td>\n",
       "      <td>Daniel</td>\n",
       "      <td>Emmanuel</td>\n",
       "      <td>Microbiology</td>\n",
       "      <td>Obafemi Awolowo University</td>\n",
       "      <td>Attendee</td>\n",
       "      <td>A friend</td>\n",
       "      <td>Present</td>\n",
       "    </tr>\n",
       "    <tr>\n",
       "      <th>3</th>\n",
       "      <td>4</td>\n",
       "      <td>otunpraise@gmail.com</td>\n",
       "      <td>Praise-Him</td>\n",
       "      <td>Otun</td>\n",
       "      <td>Demography and social statistics</td>\n",
       "      <td>Obafemi Awolowo University</td>\n",
       "      <td>Attendee</td>\n",
       "      <td>Saw our flyers</td>\n",
       "      <td></td>\n",
       "    </tr>\n",
       "    <tr>\n",
       "      <th>4</th>\n",
       "      <td>5</td>\n",
       "      <td>hardejumodaniel@gmail.com</td>\n",
       "      <td>DANIEL</td>\n",
       "      <td>ADEJUMO</td>\n",
       "      <td>AGRICULTURAL AND ENVIRONMENTAL ENGINEERING</td>\n",
       "      <td>OBAFEMI AWOLOWO UNIVERSITY</td>\n",
       "      <td>Attendee</td>\n",
       "      <td>Whatsapp</td>\n",
       "      <td></td>\n",
       "    </tr>\n",
       "  </tbody>\n",
       "</table>\n",
       "</div>"
      ],
      "text/plain": [
       "   ID                        Email2  First Name   Last Name  \\\n",
       "0   1     Olamideosho148@gmail.com     Olamide         Osho   \n",
       "1   2  abdurahmanridwan02@gmail.com     Ridwan   Abdurahman   \n",
       "2   3      Emmanueldan402@gmail.com     Daniel    Emmanuel    \n",
       "3   4          otunpraise@gmail.com  Praise-Him        Otun   \n",
       "4   5     hardejumodaniel@gmail.com     DANIEL     ADEJUMO    \n",
       "\n",
       "                                    Department  \\\n",
       "0                                   Economics    \n",
       "1  Agricultural and environmental engineering    \n",
       "2                                Microbiology    \n",
       "3            Demography and social statistics    \n",
       "4  AGRICULTURAL AND ENVIRONMENTAL ENGINEERING    \n",
       "\n",
       "                                 School  \\\n",
       "0           Obafemi Awolowo University    \n",
       "1  Obafemi awolowo university, ile ife    \n",
       "2            Obafemi Awolowo University   \n",
       "3           Obafemi Awolowo University    \n",
       "4           OBAFEMI AWOLOWO UNIVERSITY    \n",
       "\n",
       "  Are you a hackathon participant or attendee?  \\\n",
       "0                                     Attendee   \n",
       "1                        Hackathon Participant   \n",
       "2                                     Attendee   \n",
       "3                                     Attendee   \n",
       "4                                     Attendee   \n",
       "\n",
       "  How did you hear about this event? Attendance  \n",
       "0                           Whatsapp    Present  \n",
       "1                           Whatsapp             \n",
       "2                           A friend    Present  \n",
       "3                     Saw our flyers             \n",
       "4                           Whatsapp             "
      ]
     },
     "execution_count": 8,
     "metadata": {},
     "output_type": "execute_result"
    }
   ],
   "source": [
    "df.head()"
   ]
  },
  {
   "cell_type": "code",
   "execution_count": 9,
   "metadata": {},
   "outputs": [
    {
     "data": {
      "text/plain": [
       "[<Worksheet 'Sheet1' id:1429999265>, <Worksheet 'New Worksheet' id:705028718>]"
      ]
     },
     "execution_count": 9,
     "metadata": {},
     "output_type": "execute_result"
    }
   ],
   "source": [
    "worksheet_list = sh.worksheets()\n",
    "\n",
    "worksheet_list"
   ]
  },
  {
   "cell_type": "code",
   "execution_count": 20,
   "metadata": {},
   "outputs": [],
   "source": [
    "#Creating a New Worksheet to Get Data from the first worksheet\n",
    "\n",
    "#sheet_2 = sh.add_worksheet(title = 'New Worksheet', rows = 100, cols = 10)"
   ]
  },
  {
   "cell_type": "code",
   "execution_count": 21,
   "metadata": {},
   "outputs": [],
   "source": [
    "#sheet_2 = worksheet"
   ]
  },
  {
   "cell_type": "code",
   "execution_count": 10,
   "metadata": {},
   "outputs": [
    {
     "data": {
      "text/plain": [
       "['ID',\n",
       " 'Email2',\n",
       " 'First Name',\n",
       " 'Last Name',\n",
       " 'Department',\n",
       " 'School',\n",
       " 'Are you a hackathon participant or attendee?',\n",
       " 'How did you hear about this event?',\n",
       " 'Attendance']"
      ]
     },
     "execution_count": 10,
     "metadata": {},
     "output_type": "execute_result"
    }
   ],
   "source": [
    "values_list = sheet.row_values(1)\n",
    "\n",
    "values_list"
   ]
  },
  {
   "cell_type": "code",
   "execution_count": 13,
   "metadata": {},
   "outputs": [],
   "source": [
    "#get values as list of key pair values\n",
    "\n",
    "all_values = sheet.get_all_records()"
   ]
  },
  {
   "cell_type": "code",
   "execution_count": 14,
   "metadata": {},
   "outputs": [],
   "source": [
    "# get values as 2D list\n",
    "all_values_list = sheet.get_all_values()"
   ]
  },
  {
   "cell_type": "code",
   "execution_count": null,
   "metadata": {},
   "outputs": [],
   "source": []
  }
 ],
 "metadata": {
  "kernelspec": {
   "display_name": "Python 3",
   "language": "python",
   "name": "python3"
  },
  "language_info": {
   "codemirror_mode": {
    "name": "ipython",
    "version": 3
   },
   "file_extension": ".py",
   "mimetype": "text/x-python",
   "name": "python",
   "nbconvert_exporter": "python",
   "pygments_lexer": "ipython3",
   "version": "3.10.8"
  }
 },
 "nbformat": 4,
 "nbformat_minor": 2
}
